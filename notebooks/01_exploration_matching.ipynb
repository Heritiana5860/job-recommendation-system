{
 "cells": [
  {
   "cell_type": "code",
   "execution_count": null,
   "id": "1be1eb52",
   "metadata": {},
   "outputs": [],
   "source": [
    "# Imports et configuration\n",
    "import sys\n",
    "sys.path.append('../')\n",
    "\n",
    "from src.data_manager import DataManager\n",
    "from src.matcher import SimpleMatcher\n",
    "from src.utils import print_recommendations\n",
    "import pandas as pd"
   ]
  },
  {
   "cell_type": "code",
   "execution_count": null,
   "id": "1c3dc2da",
   "metadata": {},
   "outputs": [],
   "source": [
    "# Charger les données\n",
    "dm = DataManager()\n",
    "profiles = dm.load_profiles()\n",
    "jobs = dm.load_jobs()\n",
    "\n",
    "print(f\"\\nProfils disponibles:\")\n",
    "for p in profiles:\n",
    "    print(f\"  - {p['id']}: {p['name']} ({', '.join(p['skills'][:2])}...)\")\n",
    "\n",
    "print(f\"\\nOffres disponibles:\")\n",
    "for j in jobs:\n",
    "    print(f\"  - {j['id']}: {j['title']} @ {j['company']}\")"
   ]
  },
  {
   "cell_type": "code",
   "execution_count": null,
   "id": "68b7b265",
   "metadata": {},
   "outputs": [],
   "source": [
    "# Tester le matching simple\n",
    "matcher = SimpleMatcher()\n",
    "\n",
    "# Tester pour chaque profil\n",
    "all_recommendations = {}\n",
    "for profile in profiles:\n",
    "    recommendations = matcher.recommend(profile, jobs)\n",
    "    all_recommendations[profile['id']] = recommendations\n",
    "    print_recommendations(profile['name'], recommendations)"
   ]
  },
  {
   "cell_type": "code",
   "execution_count": null,
   "id": "9c4f4f72",
   "metadata": {},
   "outputs": [],
   "source": [
    "# Analyse des scores\n",
    "import matplotlib.pyplot as plt\n",
    "import numpy as np\n",
    "\n",
    "# Visualiser les scores pour le premier profil\n",
    "profile = profiles[0]\n",
    "recommendations = all_recommendations[profile['id']]\n",
    "\n",
    "jobs_titles = [r['job_title'] for r in recommendations]\n",
    "scores = [r['score'] for r in recommendations]\n",
    "\n",
    "plt.figure(figsize=(10, 6))\n",
    "plt.barh(jobs_titles, scores, color='steelblue')\n",
    "plt.xlabel('Score de Match')\n",
    "plt.title(f'Scores de Matching pour {profile[\"name\"]}')\n",
    "plt.xlim(0, 1)\n",
    "for i, v in enumerate(scores):\n",
    "    plt.text(v + 0.02, i, f'{v:.2%}', va='center')\n",
    "plt.tight_layout()\n",
    "plt.show()"
   ]
  }
 ],
 "metadata": {
  "language_info": {
   "name": "python"
  }
 },
 "nbformat": 4,
 "nbformat_minor": 5
}
