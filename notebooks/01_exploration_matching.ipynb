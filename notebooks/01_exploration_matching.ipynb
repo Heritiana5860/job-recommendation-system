{
 "cells": [
  {
   "cell_type": "code",
   "execution_count": 1,
   "id": "1be1eb52",
   "metadata": {},
   "outputs": [],
   "source": [
    "# Imports et configuration\n",
    "import sys\n",
    "sys.path.append('../')\n",
    "\n",
    "from src.data_manager import DataManager\n",
    "from src.matcher import SimpleMatcher\n",
    "from src.utils import print_recommendations\n",
    "import pandas as pd"
   ]
  },
  {
   "cell_type": "code",
   "execution_count": 2,
   "id": "1c3dc2da",
   "metadata": {},
   "outputs": [
    {
     "name": "stdout",
     "output_type": "stream",
     "text": [
      "✓ 2 profils chargés\n",
      "✓ 3 offres chargées\n",
      "\n",
      "Profils disponibles:\n",
      "  - user_001: Jean Dupont (Python, Machine Learning...)\n",
      "  - user_002: Marie Martin (JavaScript, React...)\n",
      "\n",
      "Offres disponibles:\n",
      "  - job_001: Développeur Python IA @ TechCorp\n",
      "  - job_002: Ingénieur Data Science @ DataSolutions\n",
      "  - job_003: Frontend Developer React @ WebStudio\n"
     ]
    }
   ],
   "source": [
    "# Charger les données\n",
    "dm = DataManager()\n",
    "profiles = dm.load_profiles()\n",
    "jobs = dm.load_jobs()\n",
    "\n",
    "print(f\"\\nProfils disponibles:\")\n",
    "for p in profiles:\n",
    "    print(f\"  - {p['id']}: {p['name']} ({', '.join(p['skills'][:2])}...)\")\n",
    "\n",
    "print(f\"\\nOffres disponibles:\")\n",
    "for j in jobs:\n",
    "    print(f\"  - {j['id']}: {j['title']} @ {j['company']}\")"
   ]
  },
  {
   "cell_type": "code",
   "execution_count": 3,
   "id": "68b7b265",
   "metadata": {},
   "outputs": [
    {
     "name": "stdout",
     "output_type": "stream",
     "text": [
      "\n",
      "============================================================\n",
      "Recommandations pour Jean Dupont\n",
      "============================================================\n",
      "\n",
      "1. Développeur Python IA - TechCorp\n",
      "   Location: Paris\n",
      "   Salary: 40000 - 55000\n",
      "   Score de match: 60.70%\n",
      "   URL: #\n",
      "\n",
      "2. Ingénieur Data Science - DataSolutions\n",
      "   Location: Lyon\n",
      "   Salary: 38000 - 52000\n",
      "   Score de match: 50.29%\n",
      "   URL: #\n",
      "\n",
      "3. Frontend Developer React - WebStudio\n",
      "   Location: Paris\n",
      "   Salary: 32000 - 48000\n",
      "   Score de match: 31.36%\n",
      "   URL: #\n",
      "\n",
      "============================================================\n",
      "Recommandations pour Marie Martin\n",
      "============================================================\n",
      "\n",
      "1. Frontend Developer React - WebStudio\n",
      "   Location: Paris\n",
      "   Salary: 32000 - 48000\n",
      "   Score de match: 37.60%\n",
      "   URL: #\n",
      "\n",
      "2. Ingénieur Data Science - DataSolutions\n",
      "   Location: Lyon\n",
      "   Salary: 38000 - 52000\n",
      "   Score de match: 30.57%\n",
      "   URL: #\n"
     ]
    }
   ],
   "source": [
    "# Tester le matching simple\n",
    "matcher = SimpleMatcher()\n",
    "\n",
    "# Tester pour chaque profil\n",
    "all_recommendations = {}\n",
    "for profile in profiles:\n",
    "    recommendations = matcher.recommend(profile, jobs)\n",
    "    all_recommendations[profile['id']] = recommendations\n",
    "    print_recommendations(profile['name'], recommendations)"
   ]
  },
  {
   "cell_type": "code",
   "execution_count": 4,
   "id": "9c4f4f72",
   "metadata": {},
   "outputs": [
    {
     "data": {
      "image/png": "[encoded data removed]",
      "text/plain": [
       "<Figure size 1000x600 with 1 Axes>"
      ]
     },
     "metadata": {},
     "output_type": "display_data"
    }
   ],
   "source": [
    "# Analyse des scores\n",
    "import matplotlib.pyplot as plt\n",
    "import numpy as np\n",
    "\n",
    "# Visualiser les scores pour le premier profil\n",
    "profile = profiles[0]\n",
    "recommendations = all_recommendations[profile['id']]\n",
    "\n",
    "jobs_titles = [r['job_title'] for r in recommendations]\n",
    "scores = [r['score'] for r in recommendations]\n",
    "\n",
    "plt.figure(figsize=(10, 6))\n",
    "plt.barh(jobs_titles, scores, color='steelblue')\n",
    "plt.xlabel('Score de Match')\n",
    "plt.title(f'Scores de Matching pour {profile[\"name\"]}')\n",
    "plt.xlim(0, 1)\n",
    "for i, v in enumerate(scores):\n",
    "    plt.text(v + 0.02, i, f'{v:.2%}', va='center')\n",
    "plt.tight_layout()\n",
    "plt.show()"
   ]
  },
  {
   "cell_type": "code",
   "execution_count": null,
   "id": "1153abc8-6676-43fc-ba86-bebdf6d04139",
   "metadata": {},
   "outputs": [],
   "source": []
  }
 ],
 "metadata": {
  "kernelspec": {
   "display_name": "Python 3",
   "language": "python",
   "name": "python3"
  },
  "language_info": {
   "codemirror_mode": {
    "name": "ipython",
    "version": 3
   },
   "file_extension": ".py",
   "mimetype": "text/x-python",
   "name": "python",
   "nbconvert_exporter": "python",
   "pygments_lexer": "ipython3",
   "version": "3.12.7"
  }
 },
 "nbformat": 4,
 "nbformat_minor": 5
}
